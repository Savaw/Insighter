{
 "cells": [
  {
   "cell_type": "code",
   "execution_count": 18,
   "metadata": {},
   "outputs": [],
   "source": [
    "import torch\n",
    "import torch.nn as nn\n",
    "import wandb\n",
    "import os\n",
    "from dotenv import load_dotenv\n",
    "\n",
    "from LSTM import LSTM\n",
    "\n",
    "load_dotenv()\n",
    "WANDB_API_KEY = os.getenv('WANDB_API_KEY')\n"
   ]
  },
  {
   "cell_type": "code",
   "execution_count": 42,
   "metadata": {},
   "outputs": [
    {
     "name": "stdout",
     "output_type": "stream",
     "text": [
      "(tensor([[[0.7680, 0.0571, 0.2240]]]), tensor([[[ 0.5520, -0.5788,  0.0177]]]))\n",
      "out: tensor([[[-0.0298, -0.0681,  0.1012]]])\n",
      "hiddens: tensor([[[-0.0298, -0.0681,  0.1012]]]) tensor([[[-0.0844, -0.1968,  0.4289]]])\n",
      "\n",
      "out: tensor([[[-0.0616, -0.0777,  0.0146]]])\n",
      "hiddens: tensor([[[-0.0616, -0.0777,  0.0146]]]) tensor([[[-0.1553, -0.2892,  0.0896]]])\n",
      "\n",
      "out: tensor([[[-0.0618, -0.0858, -0.0177]]])\n",
      "hiddens: tensor([[[-0.0618, -0.0858, -0.0177]]]) tensor([[[-0.0883, -0.6379, -0.3502]]])\n",
      "\n",
      "out: tensor([[[ 0.0625,  0.0239, -0.2697]]])\n",
      "hiddens: tensor([[[ 0.0625,  0.0239, -0.2697]]]) tensor([[[ 0.0711,  0.1821, -0.5060]]])\n",
      "\n",
      "out: tensor([[[-0.1262,  0.1365, -0.0766]]])\n",
      "hiddens: tensor([[[-0.1262,  0.1365, -0.0766]]]) tensor([[[-0.4086,  0.5347, -0.2022]]])\n",
      "\n"
     ]
    }
   ],
   "source": [
    "torch.manual_seed(0)\n",
    "\n",
    "seq_len = 5\n",
    "input_size = 4\n",
    "hidden_size = 3\n",
    "\n",
    "model = nn.LSTM(input_size=input_size, hidden_size=hidden_size, num_layers=1)\n",
    "\n",
    "seq = [torch.randn(1, input_size) for _ in range(seq_len)]\n",
    "init_hidden = (torch.randn(1, 1, hidden_size), \n",
    "               torch.randn(1, 1, hidden_size))\n",
    "\n",
    "hidden = init_hidden\n",
    "\n",
    "# Iterating over each element in the sequence one-by-one\n",
    "for element in seq:\n",
    "    \n",
    "    # Note on view vs reshape: https://stackoverflow.com/a/49644300\n",
    "    assert element.shape == (1, 4)\n",
    "    assert element.view(1, 1, -1).shape == (1, 1, 4)\n",
    "    out, hidden = model(element.view(1, 1, -1), hidden)\n",
    "    \n",
    "    # out: output features from the last layer of lstm\n",
    "    assert out.shape == (1, 1, hidden_size)\n",
    "    \n",
    "    # hidden will contain \n",
    "    assert len(hidden) == 2 # same as hidden state\n",
    "    assert hidden[0].shape == (1, 1, hidden_size)\n",
    "    \n",
    "    print(\"out:\", out.detach())\n",
    "    print(\"hiddens:\", hidden[0].detach(), hidden[1].detach())\n",
    "    print()\n",
    "\n"
   ]
  },
  {
   "cell_type": "code",
   "execution_count": 48,
   "metadata": {},
   "outputs": [
    {
     "name": "stdout",
     "output_type": "stream",
     "text": [
      "out: tensor([[[-0.0298, -0.0681,  0.1012]],\n",
      "\n",
      "        [[-0.0616, -0.0777,  0.0146]],\n",
      "\n",
      "        [[-0.0618, -0.0858, -0.0177]],\n",
      "\n",
      "        [[ 0.0625,  0.0239, -0.2697]],\n",
      "\n",
      "        [[-0.1262,  0.1365, -0.0766]]])\n",
      "hiddens: tensor([[[-0.1262,  0.1365, -0.0766]]]) tensor([[[-0.4086,  0.5347, -0.2022]]])\n"
     ]
    }
   ],
   "source": [
    "# Passing all sequence at once\n",
    "assert torch.cat(seq).shape == (5, 4)\n",
    "inputs = torch.cat(seq).view(seq_len, 1, -1)\n",
    "assert inputs.shape == (5, 1, 4)\n",
    "hidden = init_hidden\n",
    "\n",
    "out, hidden = model(inputs, hidden)\n",
    "\n",
    "assert out.shape == (seq_len, 1, hidden_size)\n",
    "\n",
    "print(\"out:\", out.detach())\n",
    "print(\"hiddens:\", hidden[0].detach(), hidden[1].detach())\n"
   ]
  },
  {
   "cell_type": "code",
   "execution_count": null,
   "metadata": {},
   "outputs": [],
   "source": []
  }
 ],
 "metadata": {
  "kernelspec": {
   "display_name": "venv",
   "language": "python",
   "name": "python3"
  },
  "language_info": {
   "codemirror_mode": {
    "name": "ipython",
    "version": 3
   },
   "file_extension": ".py",
   "mimetype": "text/x-python",
   "name": "python",
   "nbconvert_exporter": "python",
   "pygments_lexer": "ipython3",
   "version": "3.12.2"
  }
 },
 "nbformat": 4,
 "nbformat_minor": 2
}
